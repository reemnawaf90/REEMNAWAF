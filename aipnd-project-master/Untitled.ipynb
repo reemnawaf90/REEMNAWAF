{
 "cells": [
  {
   "cell_type": "code",
   "execution_count": 1,
   "id": "ae73df5a-c98e-4a90-8948-96e40910acb4",
   "metadata": {},
   "outputs": [],
   "source": [
    "import os\n",
    "import shutil\n",
    "\n",
    "source_dir = \"/Users/reem/Desktop/aipnd-project-master/flowers\"  # مسار مجلد الصور\n",
    "train_dir = os.path.join(source_dir, \"train\")\n",
    "valid_dir = os.path.join(source_dir, \"valid\")\n",
    "\n",
    "# إنشاء المجلدات اللازمة\n",
    "for category in [\"daisy\", \"dandelion\", \"rose\", \"sunflower\", \"tulip\"]:\n",
    "    os.makedirs(os.path.join(train_dir, category), exist_ok=True)\n",
    "    os.makedirs(os.path.join(valid_dir, category), exist_ok=True)\n",
    "\n",
    "# تحويل البيانات إلى المجلدات المناسبة (هذا يعتمد على طريقة تنظيم بياناتك)\n",
    "# ملاحظة: يجب تعديل هذا الجزء حسب مكان وجود بياناتك.\n",
    "\n",
    "# مثال لنقل الصور (يمكنك تخصيصه بناءً على حالتك)\n",
    "for category in [\"daisy\", \"dandelion\", \"rose\", \"sunflower\", \"tulip\"]:\n",
    "    category_path = os.path.join(source_dir, category)\n",
    "    for img_name in os.listdir(category_path):\n",
    "        if img_name.endswith(\".jpg\") or img_name.endswith(\".png\"):\n",
    "            src_path = os.path.join(category_path, img_name)\n",
    "            dest_path = os.path.join(train_dir, category, img_name)\n",
    "            shutil.copy(src_path, dest_path)  # يمكنك استخدام move بدلاً من copy إذا كنت تفضل نقل الملفات\n"
   ]
  },
  {
   "cell_type": "code",
   "execution_count": null,
   "id": "3a1dc3ff-4c57-4676-9727-e1be4acc2075",
   "metadata": {},
   "outputs": [],
   "source": []
  }
 ],
 "metadata": {
  "kernelspec": {
   "display_name": "Python 3 (ipykernel)",
   "language": "python",
   "name": "python3"
  },
  "language_info": {
   "codemirror_mode": {
    "name": "ipython",
    "version": 3
   },
   "file_extension": ".py",
   "mimetype": "text/x-python",
   "name": "python",
   "nbconvert_exporter": "python",
   "pygments_lexer": "ipython3",
   "version": "3.12.2"
  }
 },
 "nbformat": 4,
 "nbformat_minor": 5
}
